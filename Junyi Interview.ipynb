{
 "cells": [
  {
   "cell_type": "code",
   "execution_count": 20,
   "metadata": {},
   "outputs": [],
   "source": [
    "input1 = \"junyiacademy\"\n",
    "input2 = \"flipped class room is important\""
   ]
  },
  {
   "cell_type": "code",
   "execution_count": 50,
   "metadata": {},
   "outputs": [],
   "source": [
    "def func1(s1):\n",
    "    def reverseString(s):\n",
    "        res = \"\"\n",
    "\n",
    "        for i in range(len(s)-1, -1, -1):\n",
    "            res+= s[i]\n",
    "\n",
    "        return res\n",
    "    res1 = \"\"\n",
    "    slist = s1.split()\n",
    "    for i, s_i in enumerate(slist):\n",
    "        res1+= reverseString(s_i)\n",
    "        if i != len(slist) - 1:\n",
    "            res1+= \" \"\n",
    "    return res1"
   ]
  },
  {
   "cell_type": "code",
   "execution_count": 51,
   "metadata": {},
   "outputs": [
    {
     "data": {
      "text/plain": [
       "'ymedacaiynu'"
      ]
     },
     "execution_count": 51,
     "metadata": {},
     "output_type": "execute_result"
    }
   ],
   "source": [
    "reverseString(input1)"
   ]
  },
  {
   "cell_type": "code",
   "execution_count": 54,
   "metadata": {},
   "outputs": [
    {
     "data": {
      "text/plain": [
       "'tnatropmi si moor ssalc deppil'"
      ]
     },
     "execution_count": 54,
     "metadata": {},
     "output_type": "execute_result"
    }
   ],
   "source": [
    "reverseString(input2)"
   ]
  },
  {
   "cell_type": "code",
   "execution_count": 55,
   "metadata": {},
   "outputs": [
    {
     "data": {
      "text/plain": [
       "'deppilf ssalc moor si tnatropmi'"
      ]
     },
     "execution_count": 55,
     "metadata": {},
     "output_type": "execute_result"
    }
   ],
   "source": [
    "func1(input2)"
   ]
  },
  {
   "cell_type": "code",
   "execution_count": 56,
   "metadata": {},
   "outputs": [
    {
     "data": {
      "text/plain": [
       "'ymedacaiynuj'"
      ]
     },
     "execution_count": 56,
     "metadata": {},
     "output_type": "execute_result"
    }
   ],
   "source": [
    "func1(input1)"
   ]
  },
  {
   "cell_type": "code",
   "execution_count": 57,
   "metadata": {},
   "outputs": [],
   "source": [
    "input21 = 15"
   ]
  },
  {
   "cell_type": "code",
   "execution_count": 61,
   "metadata": {},
   "outputs": [],
   "source": [
    "def func2(input2):\n",
    "    count = 0\n",
    "    for i in range(1, input2+1):\n",
    "        if ((i % 3 != 0) and (i % 5 !=0)):\n",
    "            count+= 1\n",
    "        if ((i % 3 == 0) and (i % 5 == 0)):\n",
    "            count+=1\n",
    "    return count"
   ]
  },
  {
   "cell_type": "code",
   "execution_count": 62,
   "metadata": {},
   "outputs": [
    {
     "data": {
      "text/plain": [
       "9"
      ]
     },
     "execution_count": 62,
     "metadata": {},
     "output_type": "execute_result"
    }
   ],
   "source": [
    "func2(input21)"
   ]
  },
  {
   "cell_type": "code",
   "execution_count": null,
   "metadata": {},
   "outputs": [],
   "source": []
  },
  {
   "cell_type": "markdown",
   "metadata": {},
   "source": [
    "假設從A袋拿出的是鉛筆 代表A袋是either 鉛筆 or 混合 既然它是錯的 那麼一定是混合 然後再看標有混合的就一定是 原子筆袋 因為標籤一定是錯的 標有原子筆袋的就是鉛筆 以此類推"
   ]
  },
  {
   "cell_type": "code",
   "execution_count": null,
   "metadata": {},
   "outputs": [],
   "source": []
  },
  {
   "cell_type": "markdown",
   "metadata": {},
   "source": [
    "900元 三人分 一人需要付 300元 套餐 750 元 三人分 一人需要付出 250元 150元的價差 服務生本需要一人退50元 然而服務生只退了 90元給三個人 所以一他們一人實際上付出270元 剩下60元\n",
    "\n",
    "(900\\3) = 300 一人原價\n",
    "(900 - 750) = 150 一人打折價差\n",
    "(90\\3) = 30 一人被退還的錢\n",
    "300 - 30 = 270 一人付出的錢\n",
    "270*3 = 810 \n",
    "300 - 50 = 250 一人打折價\n",
    "\n",
    "810 + 60 = 870 並不是原價\n",
    "\n",
    "250 * 3 + (150) = 900\n",
    "\n",
    "三十元 不見是因為 870並不是原價 90-60 = 30 = (退的錢-私吞的錢)\n",
    "\n",
    "\n"
   ]
  },
  {
   "cell_type": "markdown",
   "metadata": {},
   "source": [
    "簡單來說 270 不是原價 也不是真打折價 而是 假打折價 所以說 870是 三人購買假打折價的錢"
   ]
  },
  {
   "cell_type": "code",
   "execution_count": null,
   "metadata": {},
   "outputs": [],
   "source": []
  }
 ],
 "metadata": {
  "kernelspec": {
   "display_name": "Python 3",
   "language": "python",
   "name": "python3"
  },
  "language_info": {
   "codemirror_mode": {
    "name": "ipython",
    "version": 3
   },
   "file_extension": ".py",
   "mimetype": "text/x-python",
   "name": "python",
   "nbconvert_exporter": "python",
   "pygments_lexer": "ipython3",
   "version": "3.7.0"
  }
 },
 "nbformat": 4,
 "nbformat_minor": 2
}
